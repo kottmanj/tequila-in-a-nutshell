{
 "cells": [
  {
   "cell_type": "markdown",
   "metadata": {
    "slideshow": {
     "slide_type": "slide"
    }
   },
   "source": [
    "# Tequila in a Nutshell\n",
    "- Tequila is software development kit for quantum algorithms focused on abstraction\n",
    "- It operates on combinations of abstract expectation values\n",
    "- It allows to define abstract functions from those expectation values"
   ]
  },
  {
   "cell_type": "markdown",
   "metadata": {
    "slideshow": {
     "slide_type": "slide"
    }
   },
   "source": [
    "## Basic Building Block: Expectation Values  \n",
    "\n",
    "<div align=\"center\">  </div>  \n",
    "\n",
    "this is a (parametrized) expectation value\n",
    "\n",
    "$ E(\\theta) = \\langle \\psi(\\theta) \\vert H \\vert \\psi(\\theta) \\rangle_{U(\\theta)} = \\langle H \\rangle_{U(\\theta)} $  \n",
    "\n",
    "of operator $H$  \n",
    "with respect to (parametrized) qubit wavefunction $\\psi(\\theta)$  \n",
    "prepared by circuit $U(\\theta)$.  \n",
    "\n",
    "Tequila allows you to use expectation values as abstract functions.\n",
    "\n",
    "Here is a simple example  \n",
    "```python\n",
    "U = tq.gates.Ry(angle=\"a\", target=0)\n",
    "H = tq.paulis.X(0)\n",
    "E = tq.ExpectatioValue(H=H, U=U)\n",
    "```"
   ]
  },
  {
   "cell_type": "markdown",
   "metadata": {
    "slideshow": {
     "slide_type": "slide"
    }
   },
   "source": [
    "## Basic Building Block: Expectation Values  \n",
    "\n",
    "The abstract expectation value can be compiled \n",
    "\n",
    "```python\n",
    "f = tq.compile(E)\n",
    "```\n",
    "\n",
    "and afterwards used like a function (passing variable values as dictionary)\n",
    "```python\n",
    "g = f({\"a\":1.0})  \n",
    "```\n",
    "\n",
    "in this example we have:\n",
    "- the abstract expectation value E\n",
    "- the compiled expectation value f\n",
    "- the evaluated expectation value g (this is just a number)\n"
   ]
  },
  {
   "cell_type": "markdown",
   "metadata": {
    "slideshow": {
     "slide_type": "slide"
    }
   },
   "source": [
    "## Basic Building Block: Expectation Values  \n",
    "\n",
    "Compilation can be onto several *backends* that are either simulators or interfaces to quantum computers  \n",
    "\n",
    "```python\n",
    "f1 = tq.compile(E, backend=\"qulacs\")\n",
    "f2 = tq.compile(E, backend=\"cirq\")\n",
    "f3 = tq.compile(E, backend=\"qiskit\")\n",
    "```\n",
    "\n",
    "```python\n",
    "exact = f1({\"a\":1.0})\n",
    "simulated_samples = f1({\"a\":1.0}, samples=1000)\n",
    "real_samples = f3({\"a\":1.0}, samples=1000, device=\"imbq_rome\")\n",
    "```\n"
   ]
  },
  {
   "cell_type": "markdown",
   "metadata": {
    "slideshow": {
     "slide_type": "slide"
    }
   },
   "source": [
    "## Combine Expectation Values:\n",
    "\n",
    "Astract expectation values can now be combined to more complicated objects, like for example \n",
    "\n",
    "```python\n",
    "F = 2.0*E\n",
    "G = F**2 + tq.grad(F, \"a\")\n",
    "```\n",
    "\n",
    "again, resulting objects can be compiled and used like functions\n",
    "\n",
    "```python\n",
    "g = tq.compile(F)\n",
    "evaluated = g({\"a\":1.0})\n",
    "```\n"
   ]
  },
  {
   "cell_type": "markdown",
   "metadata": {
    "slideshow": {
     "slide_type": "slide"
    }
   },
   "source": [
    "## Combine Expectation Values:\n",
    "\n",
    "Here is a specific example:\n",
    "\n",
    "$ f = e^{-\\left(\\frac{\\partial E}{\\partial a} + b\\right)^2} $\n",
    "\n",
    "```python\n",
    "F = ( tq.grad(E,\"a\") + tq.Variable(\"b\") ).apply(numpy.exp)**2 \n",
    "f = tq.compile(F)\n",
    "```\n",
    "\n",
    "- with ```tq.grad(E,\"a\")``` we create the gradient (using the shift rule in the back)\n",
    "- with ```tq.Variable(\"b\")``` we create a variable that can be used in the function\n",
    "- with ```A.apply(B)``` we create B(A) where B is a scalar function and A is a tequila object\n",
    "\n",
    "Now lets create the gradient of this function: $\\frac{\\partial f}{\\partial b}$ \n",
    "\n",
    "```python\n",
    "dF = tq.grad(F, \"b\")\n",
    "df = tq.compile(dF)\n",
    "```\n"
   ]
  },
  {
   "cell_type": "markdown",
   "metadata": {
    "slideshow": {
     "slide_type": "slide"
    }
   },
   "source": [
    "## More complex gate parameters\n",
    "\n",
    "standard parametrized $R_y$ gate\n",
    "\n",
    "```python\n",
    "U = tq.gates.Ry(angle=\"a\", target=0)\n",
    "```\n",
    "\n",
    "parametrized with the square of a variable\n",
    "\n",
    "```python\n",
    "a = tq.Variable(\"a\")\n",
    "U = tq.gates.Ry(angle=a**2, target=0)\n",
    "```\n",
    "\n",
    "parametrized with the result of a compiled tequila function (consisting of combinations of expectation values) \n",
    "\n",
    "```python\n",
    "U = tq.gates.Ry(angle=f, target=0)\n",
    "```\n",
    "\n",
    "not parametrized\n",
    "\n",
    "```python\n",
    "U = tq.gates.Ry(angle=1.0, target=0)\n",
    "```"
   ]
  },
  {
   "cell_type": "markdown",
   "metadata": {
    "slideshow": {
     "slide_type": "slide"
    }
   },
   "source": [
    "## Some convenient quantum gates\n",
    "\n",
    "Standard gates in `tq.gates`: `H, X, Y, Z, Rx, Ry, Rz, S, CNOT, SWAP`  \n",
    "\n",
    "Form controlled gates with `control` keyword\n",
    "```python\n",
    "CRy = tq.gates.Ry(angle=\"a\", target=0, control=1)\n",
    "CCRy = tq.gates.Ry(angle=\"a\", target=0, control=[1,2])\n",
    "```\n",
    "\n",
    "Multi-Pauli Rotations: $e^{-i\\frac{a}{2} P}$\n",
    "```python\n",
    "U = tq.gates.ExpPauli(paulistring=\"X(0)Y(1)\", angle=\"a\", control=None)\n",
    "```\n",
    "\n",
    "Qubit-Excitations:  $e^{-i\\frac{a}{2} G}$ with e.g. $G = -i(\\sigma_i^- \\sigma_j^+ - \\sigma_i^+ \\sigma_j^-) $ \n",
    "```python\n",
    "U = tq.QubitExcitation(target=[i,j], angle=\"a\", control=None)\n",
    "U = tq.QubitExcitation(target=[i,j,k,l], angle=\"a\", control=None) \n",
    "U = tq.QubitExcitation(target=[i,j,k,l,m,n], angle=\"a\", control=...)\n",
    "```\n"
   ]
  },
  {
   "cell_type": "markdown",
   "metadata": {
    "slideshow": {
     "slide_type": "slide"
    }
   },
   "source": [
    "## Smart Compiler\n",
    "\n",
    "```python\n",
    "U = tq.QubitExcitation(target=[0,2], angle=\"a\", control=None)\n",
    "...\n",
    "E = tq.ExpectationValue(H=H, U=U)\n",
    "f = tq.compile(E, backend=...)\n",
    "```\n",
    "\n",
    "if backend supports MultiPauli:\n",
    "<img src=\"qubit_excitation_qulacs.png\" width=100 />\n",
    "if backend supports CRy:\n",
    "<img src=\"qubit_excitation_cirq.png\" width=150 />\n",
    "otherwise:\n",
    "<img src=\"qubit_excitation_qiskit.png\" width=500 />\n",
    "\n",
    "\n",
    "\n",
    "\n"
   ]
  },
  {
   "cell_type": "markdown",
   "metadata": {
    "slideshow": {
     "slide_type": "slide"
    }
   },
   "source": [
    "## Optimizers\n",
    "\n",
    "As tequila functions are just scalar functions, they can be minimized\n",
    "\n",
    "```python\n",
    "result = tq.minimize(E)\n",
    "final_value = result.energy\n",
    "optimized_variables = result.variables\n",
    "f = tq.compile(E)\n",
    "final_value = f(optimized_variables)\n",
    "```\n",
    "\n",
    "useful\n",
    "```python\n",
    "tq.show_available_optimizers()\n",
    "```\n",
    "\n",
    "see [github](https://github.com/tequilahub/) tutorials on optimizers for more"
   ]
  },
  {
   "cell_type": "markdown",
   "metadata": {
    "slideshow": {
     "slide_type": "slide"
    }
   },
   "source": [
    "## Vectors, Matrices, Tensors\n",
    "\n",
    "`tq.QTensor` class: Same as `numpy.ndarray` with abstract tequila functions\n",
    "\n",
    "```python\n",
    "M = tq.QTensor(shape=[2,2])\n",
    "\n",
    "M[0,0] = tq.Variable(\"a\")**2\n",
    "M[1,0] = tq.ExpectationValue(H=H, U=U)**2\n",
    "M[0,1] = f**2\n",
    "M[1,1] = 1.0\n",
    "\n",
    "N = M.dot(M)\n",
    "\n",
    "n = tq.compile(N)\n",
    "\n",
    "evaluated_matrix = n({\"a\":1.0, \"b\":2.0, ...})\n",
    "\n",
    "```\n",
    "\n",
    "\n",
    "see [github](https://github.com/tequilahub/) tutorials on QTensor for more"
   ]
  },
  {
   "cell_type": "markdown",
   "metadata": {
    "slideshow": {
     "slide_type": "slide"
    }
   },
   "source": [
    "## More:\n",
    "\n",
    "- tequila on github: [github.com/tequilahub/tequila](https://github.com/tequilahub/tequila)\n",
    "- tutorials: [github.com/tequilahub/tequila-tutorials](https://github.com/tequilahub/tequila-tutorials)\n",
    "- slide collection with research examples [kottmanj.github.io/talks_and_material/](https://kottmanj.github.io/talks_and_material/)"
   ]
  },
  {
   "cell_type": "markdown",
   "metadata": {
    "slideshow": {
     "slide_type": "slide"
    }
   },
   "source": [
    "## Installation:\n",
    "\n",
    "Linux and MacOS\n",
    "```python\n",
    "pip install tequila-basic\n",
    "```\n",
    "\n",
    "*recommended* to install qulacs (fastest backend)\n",
    "```python\n",
    "pip install qulacs\n",
    "```\n",
    "\n",
    "On Windows\n",
    "```python\n",
    "pip install git+https://github.com/tequilahub/tequila.git@windows\n",
    "```\n",
    "\n",
    "Note: Windows version is less flexible (e.g. `E**2` needs to be `E.apply(numpy.square)` here)\n",
    "\n",
    "\n",
    "\n",
    "See github [readme](github.com/tequilahub/tequila) for more information"
   ]
  }
 ],
 "metadata": {
  "celltoolbar": "Slideshow",
  "kernelspec": {
   "display_name": "tequila-3.8",
   "language": "python",
   "name": "tequila-3.8"
  },
  "language_info": {
   "codemirror_mode": {
    "name": "ipython",
    "version": 3
   },
   "file_extension": ".py",
   "mimetype": "text/x-python",
   "name": "python",
   "nbconvert_exporter": "python",
   "pygments_lexer": "ipython3",
   "version": "3.8.11"
  }
 },
 "nbformat": 4,
 "nbformat_minor": 2
}
